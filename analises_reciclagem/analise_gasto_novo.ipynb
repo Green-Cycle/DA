{
 "cells": [
  {
   "cell_type": "code",
   "execution_count": 1,
   "metadata": {},
   "outputs": [],
   "source": [
    "import pandas as pd\n",
    "from matplotlib import pyplot as plt\n",
    "from IPython.display import display, HTML\n",
    "import seaborn as sns"
   ]
  },
  {
   "cell_type": "markdown",
   "metadata": {},
   "source": [
    "# Preparação dos dados"
   ]
  },
  {
   "cell_type": "code",
   "execution_count": 3,
   "metadata": {},
   "outputs": [
    {
     "data": {
      "text/html": [
       "<table border=\"1\" class=\"dataframe\">\n",
       "  <thead>\n",
       "    <tr style=\"text-align: right;\">\n",
       "      <th></th>\n",
       "      <th>Material</th>\n",
       "      <th>Gasto com Energia - Novo (MJ/kg)</th>\n",
       "      <th>Gasto com Energia - Reciclagem</th>\n",
       "      <th>Gastos com Agua - Novo (litros/kg)</th>\n",
       "      <th>Gastos com Agua - Reciclagem</th>\n",
       "    </tr>\n",
       "  </thead>\n",
       "  <tbody>\n",
       "    <tr>\n",
       "      <th>0</th>\n",
       "      <td>Aluminio</td>\n",
       "      <td>237</td>\n",
       "      <td>11.85</td>\n",
       "      <td>2.7</td>\n",
       "      <td>0.081</td>\n",
       "    </tr>\n",
       "    <tr>\n",
       "      <th>1</th>\n",
       "      <td>Plastico</td>\n",
       "      <td>62</td>\n",
       "      <td>6.20</td>\n",
       "      <td>180.0</td>\n",
       "      <td>90.000</td>\n",
       "    </tr>\n",
       "    <tr>\n",
       "      <th>2</th>\n",
       "      <td>Vidro</td>\n",
       "      <td>15</td>\n",
       "      <td>4.50</td>\n",
       "      <td>300.0</td>\n",
       "      <td>150.000</td>\n",
       "    </tr>\n",
       "    <tr>\n",
       "      <th>3</th>\n",
       "      <td>Papel</td>\n",
       "      <td>10</td>\n",
       "      <td>4.00</td>\n",
       "      <td>324.0</td>\n",
       "      <td>162.000</td>\n",
       "    </tr>\n",
       "  </tbody>\n",
       "</table>"
      ],
      "text/plain": [
       "<IPython.core.display.HTML object>"
      ]
     },
     "metadata": {},
     "output_type": "display_data"
    }
   ],
   "source": [
    "# Caminho para o arquivo Excel\n",
    "gasto_novo_reciclagem = r'Gastos_novo_x_reciclagem.xlsx'\n",
    "\n",
    "# Ler o arquivo Excel\n",
    "gasto_novo_reciclagem = pd.read_excel(gasto_novo_reciclagem)\n",
    "\n",
    "\n",
    "display(HTML(gasto_novo_reciclagem.to_html()))"
   ]
  },
  {
   "cell_type": "code",
   "execution_count": 7,
   "metadata": {},
   "outputs": [
    {
     "data": {
      "text/plain": [
       "(4, 5)"
      ]
     },
     "execution_count": 7,
     "metadata": {},
     "output_type": "execute_result"
    }
   ],
   "source": [
    "# tamanho do dataframe\n",
    "gasto_novo_reciclagem.shape"
   ]
  },
  {
   "cell_type": "code",
   "execution_count": 8,
   "metadata": {},
   "outputs": [
    {
     "data": {
      "text/html": [
       "<div>\n",
       "<style scoped>\n",
       "    .dataframe tbody tr th:only-of-type {\n",
       "        vertical-align: middle;\n",
       "    }\n",
       "\n",
       "    .dataframe tbody tr th {\n",
       "        vertical-align: top;\n",
       "    }\n",
       "\n",
       "    .dataframe thead th {\n",
       "        text-align: right;\n",
       "    }\n",
       "</style>\n",
       "<table border=\"1\" class=\"dataframe\">\n",
       "  <thead>\n",
       "    <tr style=\"text-align: right;\">\n",
       "      <th></th>\n",
       "      <th>Material</th>\n",
       "      <th>Gasto com Energia - Novo (MJ/kg)</th>\n",
       "      <th>Gasto com Energia - Reciclagem</th>\n",
       "      <th>Gastos com Agua - Novo (litros/kg)</th>\n",
       "      <th>Gastos com Agua - Reciclagem</th>\n",
       "    </tr>\n",
       "  </thead>\n",
       "  <tbody>\n",
       "    <tr>\n",
       "      <th>0</th>\n",
       "      <td>Aluminio</td>\n",
       "      <td>237</td>\n",
       "      <td>11.85</td>\n",
       "      <td>2.7</td>\n",
       "      <td>0.081</td>\n",
       "    </tr>\n",
       "    <tr>\n",
       "      <th>1</th>\n",
       "      <td>Plastico</td>\n",
       "      <td>62</td>\n",
       "      <td>6.20</td>\n",
       "      <td>180.0</td>\n",
       "      <td>90.000</td>\n",
       "    </tr>\n",
       "    <tr>\n",
       "      <th>2</th>\n",
       "      <td>Vidro</td>\n",
       "      <td>15</td>\n",
       "      <td>4.50</td>\n",
       "      <td>300.0</td>\n",
       "      <td>150.000</td>\n",
       "    </tr>\n",
       "    <tr>\n",
       "      <th>3</th>\n",
       "      <td>Papel</td>\n",
       "      <td>10</td>\n",
       "      <td>4.00</td>\n",
       "      <td>324.0</td>\n",
       "      <td>162.000</td>\n",
       "    </tr>\n",
       "  </tbody>\n",
       "</table>\n",
       "</div>"
      ],
      "text/plain": [
       "   Material  Gasto com Energia - Novo (MJ/kg)  Gasto com Energia - Reciclagem  \\\n",
       "0  Aluminio                               237                           11.85   \n",
       "1  Plastico                                62                            6.20   \n",
       "2     Vidro                                15                            4.50   \n",
       "3     Papel                                10                            4.00   \n",
       "\n",
       "   Gastos com Agua - Novo (litros/kg)  Gastos com Agua - Reciclagem  \n",
       "0                                 2.7                         0.081  \n",
       "1                               180.0                        90.000  \n",
       "2                               300.0                       150.000  \n",
       "3                               324.0                       162.000  "
      ]
     },
     "execution_count": 8,
     "metadata": {},
     "output_type": "execute_result"
    }
   ],
   "source": [
    "# as primeiras linhas do dataframe\n",
    "gasto_novo_reciclagem.head()"
   ]
  },
  {
   "cell_type": "code",
   "execution_count": null,
   "metadata": {},
   "outputs": [],
   "source": [
    "# informações gerais\n",
    "gasto_novo_reciclagem.info()"
   ]
  },
  {
   "cell_type": "code",
   "execution_count": null,
   "metadata": {},
   "outputs": [],
   "source": [
    "# informações métricas\n",
    "gasto_novo_reciclagem.describe()"
   ]
  },
  {
   "cell_type": "code",
   "execution_count": 9,
   "metadata": {},
   "outputs": [],
   "source": [
    "# renomenando as colunas\n",
    "gasto_novo_reciclagem_df = gasto_novo_reciclagem.rename(columns={\"Material\":\"material\", \n",
    "                                                                 \"Gasto com Energia - Novo (MJ/kg)\":\"gasto_energia_novo_(MJ/kg)\", \n",
    "                                                                 \"Gasto com Energia - Reciclagem\":\"gasto_energia_reciclagem\", \n",
    "                                                                 \"Gastos com Agua - Novo (litros/kg)\": \"gasto_agua_novo_(L/kg)\", \n",
    "                                                                 \"Gastos com Agua - Reciclagem\": \"gasto_agua_reciclagem\"})"
   ]
  },
  {
   "cell_type": "markdown",
   "metadata": {},
   "source": [
    "# EDA"
   ]
  },
  {
   "cell_type": "code",
   "execution_count": 12,
   "metadata": {},
   "outputs": [
    {
     "data": {
      "image/png": "[encoded data removed]",
      "text/plain": [
       "<Figure size 640x480 with 1 Axes>"
      ]
     },
     "metadata": {},
     "output_type": "display_data"
    },
    {
     "data": {
      "text/plain": [
       "<Figure size 1200x600 with 0 Axes>"
      ]
     },
     "metadata": {},
     "output_type": "display_data"
    }
   ],
   "source": [
    "gasto_novo_reciclagem_df.plot(kind='bar', x='material', y=['gasto_energia_novo_(MJ/kg)', 'gasto_energia_reciclagem'])\n",
    "plt.figure(figsize=(12, 6))\n",
    "plt.show()"
   ]
  },
  {
   "cell_type": "markdown",
   "metadata": {},
   "source": [
    "O gasto de energia para fazer materiais novos com alumínio e plástico é muito superior ao gasto com a reciclagem, já o vidro e o papel não é muito diferente."
   ]
  },
  {
   "cell_type": "code",
   "execution_count": 14,
   "metadata": {},
   "outputs": [
    {
     "data": {
      "image/png": "[encoded data removed]",
      "text/plain": [
       "<Figure size 640x480 with 1 Axes>"
      ]
     },
     "metadata": {},
     "output_type": "display_data"
    },
    {
     "data": {
      "text/plain": [
       "<Figure size 1200x600 with 0 Axes>"
      ]
     },
     "metadata": {},
     "output_type": "display_data"
    }
   ],
   "source": [
    "gasto_novo_reciclagem_df.plot(kind='bar', x='material', y=['gasto_agua_novo_(L/kg)', 'gasto_agua_reciclagem'])\n",
    "plt.figure(figsize=(12, 6))\n",
    "plt.show()"
   ]
  },
  {
   "cell_type": "markdown",
   "metadata": {},
   "source": [
    "O gasto de água para fazer materiais novos vidro, papel e plástico é muito superior ao gasto com a reciclagem, já os valores do alumínio são muito pequenos para fazer uma comparação."
   ]
  }
 ],
 "metadata": {
  "kernelspec": {
   "display_name": "tts4",
   "language": "python",
   "name": "python3"
  },
  "language_info": {
   "codemirror_mode": {
    "name": "ipython",
    "version": 3
   },
   "file_extension": ".py",
   "mimetype": "text/x-python",
   "name": "python",
   "nbconvert_exporter": "python",
   "pygments_lexer": "ipython3",
   "version": "3.11.5"
  }
 },
 "nbformat": 4,
 "nbformat_minor": 2
}
